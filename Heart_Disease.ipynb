{
  "nbformat": 4,
  "nbformat_minor": 0,
  "metadata": {
    "colab": {
      "name": "Heart Disease.ipynb",
      "version": "0.3.2",
      "provenance": [],
      "toc_visible": true,
      "include_colab_link": true
    },
    "kernelspec": {
      "name": "python3",
      "display_name": "Python 3"
    }
  },
  "cells": [
    {
      "cell_type": "markdown",
      "metadata": {
        "id": "view-in-github",
        "colab_type": "text"
      },
      "source": [
        "<a href=\"https://colab.research.google.com/github/divyaprabha123/Machine-Learning-with-a-Heart/blob/master/Heart_Disease.ipynb\" target=\"_parent\"><img src=\"https://colab.research.google.com/assets/colab-badge.svg\" alt=\"Open In Colab\"/></a>"
      ]
    },
    {
      "metadata": {
        "id": "iEENOS9KqIaC",
        "colab_type": "text"
      },
      "cell_type": "markdown",
      "source": [
        "# Predicting Heart Disease"
      ]
    },
    {
      "metadata": {
        "id": "1vmUYS2Gvety",
        "colab_type": "text"
      },
      "cell_type": "markdown",
      "source": [
        "**1. Import Dependencies and read data**"
      ]
    },
    {
      "metadata": {
        "id": "K6fOFeWlSvc4",
        "colab_type": "code",
        "colab": {}
      },
      "cell_type": "code",
      "source": [
        "import pandas as pd\n",
        "import numpy as np\n",
        "import matplotlib.pyplot as plt\n",
        "import seaborn as sns\n",
        "from sklearn.ensemble import RandomForestClassifier"
      ],
      "execution_count": 0,
      "outputs": []
    },
    {
      "metadata": {
        "id": "9N7aO1UkS5de",
        "colab_type": "code",
        "colab": {}
      },
      "cell_type": "code",
      "source": [
        "train = pd.read_csv(\"https://s3.amazonaws.com/drivendata/data/54/public/train_values.csv\")"
      ],
      "execution_count": 0,
      "outputs": []
    },
    {
      "metadata": {
        "id": "rDFFoMfC8lA9",
        "colab_type": "code",
        "outputId": "7eea7cd8-9f93-48cb-9b64-8d53256142d7",
        "colab": {
          "base_uri": "https://localhost:8080/",
          "height": 226
        }
      },
      "cell_type": "code",
      "source": [
        "train.head()"
      ],
      "execution_count": 0,
      "outputs": [
        {
          "output_type": "execute_result",
          "data": {
            "text/html": [
              "<div>\n",
              "<style scoped>\n",
              "    .dataframe tbody tr th:only-of-type {\n",
              "        vertical-align: middle;\n",
              "    }\n",
              "\n",
              "    .dataframe tbody tr th {\n",
              "        vertical-align: top;\n",
              "    }\n",
              "\n",
              "    .dataframe thead th {\n",
              "        text-align: right;\n",
              "    }\n",
              "</style>\n",
              "<table border=\"1\" class=\"dataframe\">\n",
              "  <thead>\n",
              "    <tr style=\"text-align: right;\">\n",
              "      <th></th>\n",
              "      <th>patient_id</th>\n",
              "      <th>slope_of_peak_exercise_st_segment</th>\n",
              "      <th>thal</th>\n",
              "      <th>resting_blood_pressure</th>\n",
              "      <th>chest_pain_type</th>\n",
              "      <th>num_major_vessels</th>\n",
              "      <th>fasting_blood_sugar_gt_120_mg_per_dl</th>\n",
              "      <th>resting_ekg_results</th>\n",
              "      <th>serum_cholesterol_mg_per_dl</th>\n",
              "      <th>oldpeak_eq_st_depression</th>\n",
              "      <th>sex</th>\n",
              "      <th>age</th>\n",
              "      <th>max_heart_rate_achieved</th>\n",
              "      <th>exercise_induced_angina</th>\n",
              "    </tr>\n",
              "  </thead>\n",
              "  <tbody>\n",
              "    <tr>\n",
              "      <th>0</th>\n",
              "      <td>0z64un</td>\n",
              "      <td>1</td>\n",
              "      <td>normal</td>\n",
              "      <td>128</td>\n",
              "      <td>2</td>\n",
              "      <td>0</td>\n",
              "      <td>0</td>\n",
              "      <td>2</td>\n",
              "      <td>308</td>\n",
              "      <td>0.0</td>\n",
              "      <td>1</td>\n",
              "      <td>45</td>\n",
              "      <td>170</td>\n",
              "      <td>0</td>\n",
              "    </tr>\n",
              "    <tr>\n",
              "      <th>1</th>\n",
              "      <td>ryoo3j</td>\n",
              "      <td>2</td>\n",
              "      <td>normal</td>\n",
              "      <td>110</td>\n",
              "      <td>3</td>\n",
              "      <td>0</td>\n",
              "      <td>0</td>\n",
              "      <td>0</td>\n",
              "      <td>214</td>\n",
              "      <td>1.6</td>\n",
              "      <td>0</td>\n",
              "      <td>54</td>\n",
              "      <td>158</td>\n",
              "      <td>0</td>\n",
              "    </tr>\n",
              "    <tr>\n",
              "      <th>2</th>\n",
              "      <td>yt1s1x</td>\n",
              "      <td>1</td>\n",
              "      <td>normal</td>\n",
              "      <td>125</td>\n",
              "      <td>4</td>\n",
              "      <td>3</td>\n",
              "      <td>0</td>\n",
              "      <td>2</td>\n",
              "      <td>304</td>\n",
              "      <td>0.0</td>\n",
              "      <td>1</td>\n",
              "      <td>77</td>\n",
              "      <td>162</td>\n",
              "      <td>1</td>\n",
              "    </tr>\n",
              "    <tr>\n",
              "      <th>3</th>\n",
              "      <td>l2xjde</td>\n",
              "      <td>1</td>\n",
              "      <td>reversible_defect</td>\n",
              "      <td>152</td>\n",
              "      <td>4</td>\n",
              "      <td>0</td>\n",
              "      <td>0</td>\n",
              "      <td>0</td>\n",
              "      <td>223</td>\n",
              "      <td>0.0</td>\n",
              "      <td>1</td>\n",
              "      <td>40</td>\n",
              "      <td>181</td>\n",
              "      <td>0</td>\n",
              "    </tr>\n",
              "    <tr>\n",
              "      <th>4</th>\n",
              "      <td>oyt4ek</td>\n",
              "      <td>3</td>\n",
              "      <td>reversible_defect</td>\n",
              "      <td>178</td>\n",
              "      <td>1</td>\n",
              "      <td>0</td>\n",
              "      <td>0</td>\n",
              "      <td>2</td>\n",
              "      <td>270</td>\n",
              "      <td>4.2</td>\n",
              "      <td>1</td>\n",
              "      <td>59</td>\n",
              "      <td>145</td>\n",
              "      <td>0</td>\n",
              "    </tr>\n",
              "  </tbody>\n",
              "</table>\n",
              "</div>"
            ],
            "text/plain": [
              "  patient_id  slope_of_peak_exercise_st_segment               thal  \\\n",
              "0     0z64un                                  1             normal   \n",
              "1     ryoo3j                                  2             normal   \n",
              "2     yt1s1x                                  1             normal   \n",
              "3     l2xjde                                  1  reversible_defect   \n",
              "4     oyt4ek                                  3  reversible_defect   \n",
              "\n",
              "   resting_blood_pressure  chest_pain_type  num_major_vessels  \\\n",
              "0                     128                2                  0   \n",
              "1                     110                3                  0   \n",
              "2                     125                4                  3   \n",
              "3                     152                4                  0   \n",
              "4                     178                1                  0   \n",
              "\n",
              "   fasting_blood_sugar_gt_120_mg_per_dl  resting_ekg_results  \\\n",
              "0                                     0                    2   \n",
              "1                                     0                    0   \n",
              "2                                     0                    2   \n",
              "3                                     0                    0   \n",
              "4                                     0                    2   \n",
              "\n",
              "   serum_cholesterol_mg_per_dl  oldpeak_eq_st_depression  sex  age  \\\n",
              "0                          308                       0.0    1   45   \n",
              "1                          214                       1.6    0   54   \n",
              "2                          304                       0.0    1   77   \n",
              "3                          223                       0.0    1   40   \n",
              "4                          270                       4.2    1   59   \n",
              "\n",
              "   max_heart_rate_achieved  exercise_induced_angina  \n",
              "0                      170                        0  \n",
              "1                      158                        0  \n",
              "2                      162                        1  \n",
              "3                      181                        0  \n",
              "4                      145                        0  "
            ]
          },
          "metadata": {
            "tags": []
          },
          "execution_count": 22
        }
      ]
    },
    {
      "metadata": {
        "id": "sWQ1HmY6j3Hx",
        "colab_type": "code",
        "colab": {}
      },
      "cell_type": "code",
      "source": [
        "target = pd.read_csv(\"https://s3.amazonaws.com/drivendata/data/54/public/train_labels.csv\")"
      ],
      "execution_count": 0,
      "outputs": []
    },
    {
      "metadata": {
        "id": "-H2SsldKS_Co",
        "colab_type": "code",
        "outputId": "052f92b0-1840-4622-c221-090fbae02525",
        "colab": {
          "base_uri": "https://localhost:8080/",
          "height": 206
        }
      },
      "cell_type": "code",
      "source": [
        "target.head() "
      ],
      "execution_count": 0,
      "outputs": [
        {
          "output_type": "execute_result",
          "data": {
            "text/html": [
              "<div>\n",
              "<style scoped>\n",
              "    .dataframe tbody tr th:only-of-type {\n",
              "        vertical-align: middle;\n",
              "    }\n",
              "\n",
              "    .dataframe tbody tr th {\n",
              "        vertical-align: top;\n",
              "    }\n",
              "\n",
              "    .dataframe thead th {\n",
              "        text-align: right;\n",
              "    }\n",
              "</style>\n",
              "<table border=\"1\" class=\"dataframe\">\n",
              "  <thead>\n",
              "    <tr style=\"text-align: right;\">\n",
              "      <th></th>\n",
              "      <th>patient_id</th>\n",
              "      <th>heart_disease_present</th>\n",
              "    </tr>\n",
              "  </thead>\n",
              "  <tbody>\n",
              "    <tr>\n",
              "      <th>0</th>\n",
              "      <td>0z64un</td>\n",
              "      <td>0</td>\n",
              "    </tr>\n",
              "    <tr>\n",
              "      <th>1</th>\n",
              "      <td>ryoo3j</td>\n",
              "      <td>0</td>\n",
              "    </tr>\n",
              "    <tr>\n",
              "      <th>2</th>\n",
              "      <td>yt1s1x</td>\n",
              "      <td>1</td>\n",
              "    </tr>\n",
              "    <tr>\n",
              "      <th>3</th>\n",
              "      <td>l2xjde</td>\n",
              "      <td>1</td>\n",
              "    </tr>\n",
              "    <tr>\n",
              "      <th>4</th>\n",
              "      <td>oyt4ek</td>\n",
              "      <td>0</td>\n",
              "    </tr>\n",
              "  </tbody>\n",
              "</table>\n",
              "</div>"
            ],
            "text/plain": [
              "  patient_id  heart_disease_present\n",
              "0     0z64un                      0\n",
              "1     ryoo3j                      0\n",
              "2     yt1s1x                      1\n",
              "3     l2xjde                      1\n",
              "4     oyt4ek                      0"
            ]
          },
          "metadata": {
            "tags": []
          },
          "execution_count": 24
        }
      ]
    },
    {
      "metadata": {
        "id": "DsupkBRmTHgV",
        "colab_type": "code",
        "colab": {}
      },
      "cell_type": "code",
      "source": [
        "train[\"heart_disease_present\"] = target[\"heart_disease_present\"]\n"
      ],
      "execution_count": 0,
      "outputs": []
    },
    {
      "metadata": {
        "id": "05WLnvjITezg",
        "colab_type": "code",
        "colab": {}
      },
      "cell_type": "code",
      "source": [
        "test = pd.read_csv(\"https://s3.amazonaws.com/drivendata/data/54/public/test_values.csv\")"
      ],
      "execution_count": 0,
      "outputs": []
    },
    {
      "metadata": {
        "id": "gbiCXF0y82bQ",
        "colab_type": "code",
        "outputId": "15eb9c55-a62d-49ea-e173-355c8bce4197",
        "colab": {
          "base_uri": "https://localhost:8080/",
          "height": 226
        }
      },
      "cell_type": "code",
      "source": [
        "test.head()"
      ],
      "execution_count": 0,
      "outputs": [
        {
          "output_type": "execute_result",
          "data": {
            "text/html": [
              "<div>\n",
              "<style scoped>\n",
              "    .dataframe tbody tr th:only-of-type {\n",
              "        vertical-align: middle;\n",
              "    }\n",
              "\n",
              "    .dataframe tbody tr th {\n",
              "        vertical-align: top;\n",
              "    }\n",
              "\n",
              "    .dataframe thead th {\n",
              "        text-align: right;\n",
              "    }\n",
              "</style>\n",
              "<table border=\"1\" class=\"dataframe\">\n",
              "  <thead>\n",
              "    <tr style=\"text-align: right;\">\n",
              "      <th></th>\n",
              "      <th>patient_id</th>\n",
              "      <th>slope_of_peak_exercise_st_segment</th>\n",
              "      <th>thal</th>\n",
              "      <th>resting_blood_pressure</th>\n",
              "      <th>chest_pain_type</th>\n",
              "      <th>num_major_vessels</th>\n",
              "      <th>fasting_blood_sugar_gt_120_mg_per_dl</th>\n",
              "      <th>resting_ekg_results</th>\n",
              "      <th>serum_cholesterol_mg_per_dl</th>\n",
              "      <th>oldpeak_eq_st_depression</th>\n",
              "      <th>sex</th>\n",
              "      <th>age</th>\n",
              "      <th>max_heart_rate_achieved</th>\n",
              "      <th>exercise_induced_angina</th>\n",
              "    </tr>\n",
              "  </thead>\n",
              "  <tbody>\n",
              "    <tr>\n",
              "      <th>0</th>\n",
              "      <td>olalu7</td>\n",
              "      <td>2</td>\n",
              "      <td>reversible_defect</td>\n",
              "      <td>170</td>\n",
              "      <td>1</td>\n",
              "      <td>0</td>\n",
              "      <td>0</td>\n",
              "      <td>2</td>\n",
              "      <td>288</td>\n",
              "      <td>0.2</td>\n",
              "      <td>1</td>\n",
              "      <td>59</td>\n",
              "      <td>159</td>\n",
              "      <td>0</td>\n",
              "    </tr>\n",
              "    <tr>\n",
              "      <th>1</th>\n",
              "      <td>z9n6mx</td>\n",
              "      <td>1</td>\n",
              "      <td>normal</td>\n",
              "      <td>138</td>\n",
              "      <td>4</td>\n",
              "      <td>0</td>\n",
              "      <td>0</td>\n",
              "      <td>0</td>\n",
              "      <td>183</td>\n",
              "      <td>1.4</td>\n",
              "      <td>0</td>\n",
              "      <td>35</td>\n",
              "      <td>182</td>\n",
              "      <td>0</td>\n",
              "    </tr>\n",
              "    <tr>\n",
              "      <th>2</th>\n",
              "      <td>5k4413</td>\n",
              "      <td>2</td>\n",
              "      <td>reversible_defect</td>\n",
              "      <td>120</td>\n",
              "      <td>4</td>\n",
              "      <td>0</td>\n",
              "      <td>0</td>\n",
              "      <td>2</td>\n",
              "      <td>177</td>\n",
              "      <td>2.5</td>\n",
              "      <td>1</td>\n",
              "      <td>43</td>\n",
              "      <td>120</td>\n",
              "      <td>1</td>\n",
              "    </tr>\n",
              "    <tr>\n",
              "      <th>3</th>\n",
              "      <td>mrg7q5</td>\n",
              "      <td>1</td>\n",
              "      <td>normal</td>\n",
              "      <td>102</td>\n",
              "      <td>3</td>\n",
              "      <td>1</td>\n",
              "      <td>0</td>\n",
              "      <td>0</td>\n",
              "      <td>318</td>\n",
              "      <td>0.0</td>\n",
              "      <td>0</td>\n",
              "      <td>60</td>\n",
              "      <td>160</td>\n",
              "      <td>0</td>\n",
              "    </tr>\n",
              "    <tr>\n",
              "      <th>4</th>\n",
              "      <td>uki4do</td>\n",
              "      <td>2</td>\n",
              "      <td>normal</td>\n",
              "      <td>138</td>\n",
              "      <td>4</td>\n",
              "      <td>1</td>\n",
              "      <td>0</td>\n",
              "      <td>2</td>\n",
              "      <td>166</td>\n",
              "      <td>3.6</td>\n",
              "      <td>1</td>\n",
              "      <td>61</td>\n",
              "      <td>125</td>\n",
              "      <td>1</td>\n",
              "    </tr>\n",
              "  </tbody>\n",
              "</table>\n",
              "</div>"
            ],
            "text/plain": [
              "  patient_id  slope_of_peak_exercise_st_segment               thal  \\\n",
              "0     olalu7                                  2  reversible_defect   \n",
              "1     z9n6mx                                  1             normal   \n",
              "2     5k4413                                  2  reversible_defect   \n",
              "3     mrg7q5                                  1             normal   \n",
              "4     uki4do                                  2             normal   \n",
              "\n",
              "   resting_blood_pressure  chest_pain_type  num_major_vessels  \\\n",
              "0                     170                1                  0   \n",
              "1                     138                4                  0   \n",
              "2                     120                4                  0   \n",
              "3                     102                3                  1   \n",
              "4                     138                4                  1   \n",
              "\n",
              "   fasting_blood_sugar_gt_120_mg_per_dl  resting_ekg_results  \\\n",
              "0                                     0                    2   \n",
              "1                                     0                    0   \n",
              "2                                     0                    2   \n",
              "3                                     0                    0   \n",
              "4                                     0                    2   \n",
              "\n",
              "   serum_cholesterol_mg_per_dl  oldpeak_eq_st_depression  sex  age  \\\n",
              "0                          288                       0.2    1   59   \n",
              "1                          183                       1.4    0   35   \n",
              "2                          177                       2.5    1   43   \n",
              "3                          318                       0.0    0   60   \n",
              "4                          166                       3.6    1   61   \n",
              "\n",
              "   max_heart_rate_achieved  exercise_induced_angina  \n",
              "0                      159                        0  \n",
              "1                      182                        0  \n",
              "2                      120                        1  \n",
              "3                      160                        0  \n",
              "4                      125                        1  "
            ]
          },
          "metadata": {
            "tags": []
          },
          "execution_count": 27
        }
      ]
    },
    {
      "metadata": {
        "id": "Ra1m__7-T1x0",
        "colab_type": "code",
        "colab": {}
      },
      "cell_type": "code",
      "source": [
        "sample_submit= pd.read_csv(\"https://s3.amazonaws.com/drivendata/data/54/public/submission_format.csv\")"
      ],
      "execution_count": 0,
      "outputs": []
    },
    {
      "metadata": {
        "id": "TtFRMDVU81HC",
        "colab_type": "code",
        "outputId": "b896b58a-191d-4e20-c7cd-30a9f6d87e66",
        "colab": {
          "base_uri": "https://localhost:8080/",
          "height": 206
        }
      },
      "cell_type": "code",
      "source": [
        "sample_submit.head()"
      ],
      "execution_count": 0,
      "outputs": [
        {
          "output_type": "execute_result",
          "data": {
            "text/html": [
              "<div>\n",
              "<style scoped>\n",
              "    .dataframe tbody tr th:only-of-type {\n",
              "        vertical-align: middle;\n",
              "    }\n",
              "\n",
              "    .dataframe tbody tr th {\n",
              "        vertical-align: top;\n",
              "    }\n",
              "\n",
              "    .dataframe thead th {\n",
              "        text-align: right;\n",
              "    }\n",
              "</style>\n",
              "<table border=\"1\" class=\"dataframe\">\n",
              "  <thead>\n",
              "    <tr style=\"text-align: right;\">\n",
              "      <th></th>\n",
              "      <th>patient_id</th>\n",
              "      <th>heart_disease_present</th>\n",
              "    </tr>\n",
              "  </thead>\n",
              "  <tbody>\n",
              "    <tr>\n",
              "      <th>0</th>\n",
              "      <td>olalu7</td>\n",
              "      <td>0.5</td>\n",
              "    </tr>\n",
              "    <tr>\n",
              "      <th>1</th>\n",
              "      <td>z9n6mx</td>\n",
              "      <td>0.5</td>\n",
              "    </tr>\n",
              "    <tr>\n",
              "      <th>2</th>\n",
              "      <td>5k4413</td>\n",
              "      <td>0.5</td>\n",
              "    </tr>\n",
              "    <tr>\n",
              "      <th>3</th>\n",
              "      <td>mrg7q5</td>\n",
              "      <td>0.5</td>\n",
              "    </tr>\n",
              "    <tr>\n",
              "      <th>4</th>\n",
              "      <td>uki4do</td>\n",
              "      <td>0.5</td>\n",
              "    </tr>\n",
              "  </tbody>\n",
              "</table>\n",
              "</div>"
            ],
            "text/plain": [
              "  patient_id  heart_disease_present\n",
              "0     olalu7                    0.5\n",
              "1     z9n6mx                    0.5\n",
              "2     5k4413                    0.5\n",
              "3     mrg7q5                    0.5\n",
              "4     uki4do                    0.5"
            ]
          },
          "metadata": {
            "tags": []
          },
          "execution_count": 29
        }
      ]
    },
    {
      "metadata": {
        "id": "9_zu85twWAyC",
        "colab_type": "code",
        "outputId": "aba5064e-f71b-49ee-9fd0-0c62c9bc52b1",
        "colab": {
          "base_uri": "https://localhost:8080/",
          "height": 226
        }
      },
      "cell_type": "code",
      "source": [
        "train.head()"
      ],
      "execution_count": 0,
      "outputs": [
        {
          "output_type": "execute_result",
          "data": {
            "text/html": [
              "<div>\n",
              "<style scoped>\n",
              "    .dataframe tbody tr th:only-of-type {\n",
              "        vertical-align: middle;\n",
              "    }\n",
              "\n",
              "    .dataframe tbody tr th {\n",
              "        vertical-align: top;\n",
              "    }\n",
              "\n",
              "    .dataframe thead th {\n",
              "        text-align: right;\n",
              "    }\n",
              "</style>\n",
              "<table border=\"1\" class=\"dataframe\">\n",
              "  <thead>\n",
              "    <tr style=\"text-align: right;\">\n",
              "      <th></th>\n",
              "      <th>patient_id</th>\n",
              "      <th>slope_of_peak_exercise_st_segment</th>\n",
              "      <th>thal</th>\n",
              "      <th>resting_blood_pressure</th>\n",
              "      <th>chest_pain_type</th>\n",
              "      <th>num_major_vessels</th>\n",
              "      <th>fasting_blood_sugar_gt_120_mg_per_dl</th>\n",
              "      <th>resting_ekg_results</th>\n",
              "      <th>serum_cholesterol_mg_per_dl</th>\n",
              "      <th>oldpeak_eq_st_depression</th>\n",
              "      <th>sex</th>\n",
              "      <th>age</th>\n",
              "      <th>max_heart_rate_achieved</th>\n",
              "      <th>exercise_induced_angina</th>\n",
              "      <th>heart_disease_present</th>\n",
              "    </tr>\n",
              "  </thead>\n",
              "  <tbody>\n",
              "    <tr>\n",
              "      <th>0</th>\n",
              "      <td>0z64un</td>\n",
              "      <td>1</td>\n",
              "      <td>normal</td>\n",
              "      <td>128</td>\n",
              "      <td>2</td>\n",
              "      <td>0</td>\n",
              "      <td>0</td>\n",
              "      <td>2</td>\n",
              "      <td>308</td>\n",
              "      <td>0.0</td>\n",
              "      <td>1</td>\n",
              "      <td>45</td>\n",
              "      <td>170</td>\n",
              "      <td>0</td>\n",
              "      <td>0</td>\n",
              "    </tr>\n",
              "    <tr>\n",
              "      <th>1</th>\n",
              "      <td>ryoo3j</td>\n",
              "      <td>2</td>\n",
              "      <td>normal</td>\n",
              "      <td>110</td>\n",
              "      <td>3</td>\n",
              "      <td>0</td>\n",
              "      <td>0</td>\n",
              "      <td>0</td>\n",
              "      <td>214</td>\n",
              "      <td>1.6</td>\n",
              "      <td>0</td>\n",
              "      <td>54</td>\n",
              "      <td>158</td>\n",
              "      <td>0</td>\n",
              "      <td>0</td>\n",
              "    </tr>\n",
              "    <tr>\n",
              "      <th>2</th>\n",
              "      <td>yt1s1x</td>\n",
              "      <td>1</td>\n",
              "      <td>normal</td>\n",
              "      <td>125</td>\n",
              "      <td>4</td>\n",
              "      <td>3</td>\n",
              "      <td>0</td>\n",
              "      <td>2</td>\n",
              "      <td>304</td>\n",
              "      <td>0.0</td>\n",
              "      <td>1</td>\n",
              "      <td>77</td>\n",
              "      <td>162</td>\n",
              "      <td>1</td>\n",
              "      <td>1</td>\n",
              "    </tr>\n",
              "    <tr>\n",
              "      <th>3</th>\n",
              "      <td>l2xjde</td>\n",
              "      <td>1</td>\n",
              "      <td>reversible_defect</td>\n",
              "      <td>152</td>\n",
              "      <td>4</td>\n",
              "      <td>0</td>\n",
              "      <td>0</td>\n",
              "      <td>0</td>\n",
              "      <td>223</td>\n",
              "      <td>0.0</td>\n",
              "      <td>1</td>\n",
              "      <td>40</td>\n",
              "      <td>181</td>\n",
              "      <td>0</td>\n",
              "      <td>1</td>\n",
              "    </tr>\n",
              "    <tr>\n",
              "      <th>4</th>\n",
              "      <td>oyt4ek</td>\n",
              "      <td>3</td>\n",
              "      <td>reversible_defect</td>\n",
              "      <td>178</td>\n",
              "      <td>1</td>\n",
              "      <td>0</td>\n",
              "      <td>0</td>\n",
              "      <td>2</td>\n",
              "      <td>270</td>\n",
              "      <td>4.2</td>\n",
              "      <td>1</td>\n",
              "      <td>59</td>\n",
              "      <td>145</td>\n",
              "      <td>0</td>\n",
              "      <td>0</td>\n",
              "    </tr>\n",
              "  </tbody>\n",
              "</table>\n",
              "</div>"
            ],
            "text/plain": [
              "  patient_id  slope_of_peak_exercise_st_segment               thal  \\\n",
              "0     0z64un                                  1             normal   \n",
              "1     ryoo3j                                  2             normal   \n",
              "2     yt1s1x                                  1             normal   \n",
              "3     l2xjde                                  1  reversible_defect   \n",
              "4     oyt4ek                                  3  reversible_defect   \n",
              "\n",
              "   resting_blood_pressure  chest_pain_type  num_major_vessels  \\\n",
              "0                     128                2                  0   \n",
              "1                     110                3                  0   \n",
              "2                     125                4                  3   \n",
              "3                     152                4                  0   \n",
              "4                     178                1                  0   \n",
              "\n",
              "   fasting_blood_sugar_gt_120_mg_per_dl  resting_ekg_results  \\\n",
              "0                                     0                    2   \n",
              "1                                     0                    0   \n",
              "2                                     0                    2   \n",
              "3                                     0                    0   \n",
              "4                                     0                    2   \n",
              "\n",
              "   serum_cholesterol_mg_per_dl  oldpeak_eq_st_depression  sex  age  \\\n",
              "0                          308                       0.0    1   45   \n",
              "1                          214                       1.6    0   54   \n",
              "2                          304                       0.0    1   77   \n",
              "3                          223                       0.0    1   40   \n",
              "4                          270                       4.2    1   59   \n",
              "\n",
              "   max_heart_rate_achieved  exercise_induced_angina  heart_disease_present  \n",
              "0                      170                        0                      0  \n",
              "1                      158                        0                      0  \n",
              "2                      162                        1                      1  \n",
              "3                      181                        0                      1  \n",
              "4                      145                        0                      0  "
            ]
          },
          "metadata": {
            "tags": []
          },
          "execution_count": 42
        }
      ]
    },
    {
      "metadata": {
        "id": "f2xiZgD3y2V4",
        "colab_type": "text"
      },
      "cell_type": "markdown",
      "source": [
        "**2. Visualizations**"
      ]
    },
    {
      "metadata": {
        "id": "oUyKySmln1DM",
        "colab_type": "text"
      },
      "cell_type": "markdown",
      "source": [
        "**2.a HeatMap**"
      ]
    },
    {
      "metadata": {
        "id": "_2vvIf6O6U9L",
        "colab_type": "code",
        "outputId": "0fc64764-00ba-4dbb-9f75-30eae85fcfc3",
        "colab": {
          "base_uri": "https://localhost:8080/",
          "height": 534
        }
      },
      "cell_type": "code",
      "source": [
        "sns.heatmap(train.corr(),cmap='YlGnBu')"
      ],
      "execution_count": 0,
      "outputs": [
        {
          "output_type": "execute_result",
          "data": {
            "text/plain": [
              "<matplotlib.axes._subplots.AxesSubplot at 0x7f8beb31e358>"
            ]
          },
          "metadata": {
            "tags": []
          },
          "execution_count": 31
        },
        {
          "output_type": "display_data",
          "data": {
            "image/png": "[encoded data removed]",
            "text/plain": [
              "<Figure size 576x396 with 2 Axes>"
            ]
          },
          "metadata": {
            "tags": []
          }
        }
      ]
    },
    {
      "metadata": {
        "id": "K8HSA1m7oFma",
        "colab_type": "text"
      },
      "cell_type": "markdown",
      "source": [
        "**2.b Boxplots**"
      ]
    },
    {
      "metadata": {
        "id": "e9TkPsjp9Kql",
        "colab_type": "code",
        "outputId": "2a28a141-5186-44b8-be26-689ee32f4c48",
        "colab": {
          "base_uri": "https://localhost:8080/",
          "height": 565
        }
      },
      "cell_type": "code",
      "source": [
        "import numpy as np\n",
        "import seaborn as sns\n",
        "import matplotlib.pyplot as plt\n",
        "\n",
        "sns.set(style=\"white\", palette=\"muted\", color_codes=True)\n",
        "rs = np.random.RandomState(10)\n",
        "\n",
        "# Set up the matplotlib figure\n",
        "f, axes = plt.subplots(2, 2, figsize=(7, 7))\n",
        "#sns.despine(left=True)\n",
        "\n",
        "# Generate a random univariate dataset\n",
        "d = rs.normal(size=100)\n",
        "\n",
        "# Plot a simple histogram with binsize determined automatically\n",
        "sns.boxplot(train[\"max_heart_rate_achieved\"], color=\"b\", ax=axes[0, 0])\n",
        "\n",
        "# Plot a kernel density estimate and rug plot\n",
        "sns.boxplot(train[\"resting_blood_pressure\"], color=\"r\", ax=axes[0, 1])\n",
        "\n",
        "# Plot a filled kernel density estimate\n",
        "sns.boxplot(train[\"serum_cholesterol_mg_per_dl\"], color=\"g\", ax=axes[1, 0])\n",
        "\n",
        "# Plot a historgram and kernel density estimate\n",
        "sns.boxplot(train[\"oldpeak_eq_st_depression\"], color=\"m\", ax=axes[1, 1])\n",
        "\n",
        "plt.setp(axes, yticks=[])\n",
        "plt.tight_layout()"
      ],
      "execution_count": 0,
      "outputs": [
        {
          "output_type": "stream",
          "text": [
            "/usr/local/lib/python3.6/dist-packages/seaborn/categorical.py:454: FutureWarning: remove_na is deprecated and is a private function. Do not use.\n",
            "  box_data = remove_na(group_data)\n"
          ],
          "name": "stderr"
        },
        {
          "output_type": "display_data",
          "data": {
            "image/png": "[encoded data removed]",
            "text/plain": [
              "<Figure size 504x504 with 4 Axes>"
            ]
          },
          "metadata": {
            "tags": []
          }
        }
      ]
    },
    {
      "metadata": {
        "id": "ZslXEFnZoUZr",
        "colab_type": "text"
      },
      "cell_type": "markdown",
      "source": [
        "**3 Data Cleaning**"
      ]
    },
    {
      "metadata": {
        "id": "Mjp8GoJPojyB",
        "colab_type": "text"
      },
      "cell_type": "markdown",
      "source": [
        "**3.a Outliers Removal **"
      ]
    },
    {
      "metadata": {
        "id": "bolqUpXuj5H4",
        "colab_type": "code",
        "colab": {}
      },
      "cell_type": "code",
      "source": [
        "columns = ['resting_blood_pressure', 'serum_cholesterol_mg_per_dl', 'max_heart_rate_achieved', 'oldpeak_eq_st_depression']\n",
        "for c in columns:\n",
        "  Upperbound, Lowerbound = np.percentile(train[c],[1,99])\n",
        "  train[c] = np.clip(train[c], Upperbound, Lowerbound)\n",
        "  test[c] = np.clip(test[c], Upperbound, Lowerbound)"
      ],
      "execution_count": 0,
      "outputs": []
    },
    {
      "metadata": {
        "id": "AZ0c8-4Co57H",
        "colab_type": "text"
      },
      "cell_type": "markdown",
      "source": [
        "**3.b Mean Encodings**"
      ]
    },
    {
      "metadata": {
        "id": "am37XDgacVjd",
        "colab_type": "code",
        "colab": {}
      },
      "cell_type": "code",
      "source": [
        "cat_columns = ['slope_of_peak_exercise_st_segment','thal','chest_pain_type','num_major_vessels',\n",
        "               'fasting_blood_sugar_gt_120_mg_per_dl','resting_ekg_results', \n",
        "               'sex','exercise_induced_angina']\n",
        "\n",
        "for c in cat_columns:\n",
        "  train[c+'_mean_target'] = train[c].map(train.groupby(train[c]).heart_disease_present.mean())\n",
        "  test[c+'_mean_target'] = test[c].map(train.groupby(train[c]).heart_disease_present.mean())"
      ],
      "execution_count": 0,
      "outputs": []
    },
    {
      "metadata": {
        "id": "NgLmPAF819-k",
        "colab_type": "code",
        "colab": {}
      },
      "cell_type": "code",
      "source": [
        "X = train.drop(columns=['patient_id', 'heart_disease_present','slope_of_peak_exercise_st_segment','thal','chest_pain_type','num_major_vessels',\n",
        "               'fasting_blood_sugar_gt_120_mg_per_dl','resting_ekg_results', \n",
        "               'sex','exercise_induced_angina'])\n",
        "y = train[\"heart_disease_present\"]\n",
        "\n",
        "from sklearn.model_selection import train_test_split\n",
        "X_train, X_val, y_train, y_val = train_test_split(X, y, test_size=0.2, random_state=44)"
      ],
      "execution_count": 0,
      "outputs": []
    },
    {
      "metadata": {
        "id": "kW4Sr43Ui6HZ",
        "colab_type": "code",
        "outputId": "2ebd2be9-cf8d-40f2-d5a9-2bfeb368ba00",
        "colab": {
          "base_uri": "https://localhost:8080/",
          "height": 35
        }
      },
      "cell_type": "code",
      "source": [
        "X_train.shape, X_val.shape"
      ],
      "execution_count": 0,
      "outputs": [
        {
          "output_type": "execute_result",
          "data": {
            "text/plain": [
              "((144, 13), (36, 13))"
            ]
          },
          "metadata": {
            "tags": []
          },
          "execution_count": 64
        }
      ]
    },
    {
      "metadata": {
        "id": "SR2ptN6XpHBN",
        "colab_type": "text"
      },
      "cell_type": "markdown",
      "source": [
        "**4. Ensembling**"
      ]
    },
    {
      "metadata": {
        "id": "5Wt1pZ6epMDy",
        "colab_type": "text"
      },
      "cell_type": "markdown",
      "source": [
        "**4.a Random Forest Classifier**"
      ]
    },
    {
      "metadata": {
        "colab_type": "code",
        "id": "FDm_ocKH3pDc",
        "colab": {}
      },
      "cell_type": "code",
      "source": [
        "model = RandomForestClassifier(n_estimators=30, min_samples_leaf=1, max_features=0.5)"
      ],
      "execution_count": 0,
      "outputs": []
    },
    {
      "metadata": {
        "colab_type": "code",
        "outputId": "90935ee9-8c77-4a6c-f76c-d48be51d4093",
        "id": "GkJFU4nE3pEc",
        "colab": {
          "base_uri": "https://localhost:8080/",
          "height": 35
        }
      },
      "cell_type": "code",
      "source": [
        "model.fit(X_train, y_train)\n",
        "predictions = model.predict(X_train)\n",
        "predictions_val = model.predict(X_val)\n",
        "\n",
        "sum(y_train==predictions)/len(X_train), sum(y_val==predictions_val)/len(X_val) "
      ],
      "execution_count": 0,
      "outputs": [
        {
          "output_type": "execute_result",
          "data": {
            "text/plain": [
              "(0.9930555555555556, 0.8055555555555556)"
            ]
          },
          "metadata": {
            "tags": []
          },
          "execution_count": 88
        }
      ]
    },
    {
      "metadata": {
        "id": "8ZgmYoDjMWpK",
        "colab_type": "text"
      },
      "cell_type": "markdown",
      "source": [
        "**Submission**"
      ]
    },
    {
      "metadata": {
        "id": "Yd3DsrnGGo9M",
        "colab_type": "code",
        "colab": {}
      },
      "cell_type": "code",
      "source": [
        "predictions_test = model.predict_proba(test.drop(columns = ['patient_id','slope_of_peak_exercise_st_segment','thal','chest_pain_type','num_major_vessels',\n",
        "               'fasting_blood_sugar_gt_120_mg_per_dl','resting_ekg_results', \n",
        "               'sex','exercise_induced_angina']))"
      ],
      "execution_count": 0,
      "outputs": []
    },
    {
      "metadata": {
        "id": "VS7ATF4SpoiM",
        "colab_type": "code",
        "colab": {}
      },
      "cell_type": "code",
      "source": [
        "def submission(predictions_test, sample_submit):\n",
        "  sample_submit[\"heart_disease_present\"] = predictions_test[:,1]\n",
        "  sample_submit.to_csv(\"sample.csv\")\n",
        "  return sample_submit"
      ],
      "execution_count": 0,
      "outputs": []
    },
    {
      "metadata": {
        "id": "4JhxlXjtKJZi",
        "colab_type": "code",
        "colab": {}
      },
      "cell_type": "code",
      "source": [
        "submission(predictions_test, sample_submit)"
      ],
      "execution_count": 0,
      "outputs": []
    },
    {
      "metadata": {
        "id": "nCmL9-m8pZ2r",
        "colab_type": "text"
      },
      "cell_type": "markdown",
      "source": [
        "**Submission Score Random Forest 233/1370**"
      ]
    },
    {
      "metadata": {
        "id": "UEv0d9zFqVxV",
        "colab_type": "text"
      },
      "cell_type": "markdown",
      "source": [
        "**5. Boosting**"
      ]
    },
    {
      "metadata": {
        "id": "rX-CLnqrqQyX",
        "colab_type": "code",
        "colab": {}
      },
      "cell_type": "code",
      "source": [
        ""
      ],
      "execution_count": 0,
      "outputs": []
    }
  ]
}